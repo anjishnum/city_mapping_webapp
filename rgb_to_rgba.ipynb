{
 "cells": [
  {
   "cell_type": "code",
   "execution_count": 1,
   "metadata": {},
   "outputs": [],
   "source": [
    "import rasterio as rio\n",
    "from osgeo import gdal\n",
    "import numpy as np\n",
    "import matplotlib.pyplot as plt"
   ]
  },
  {
   "cell_type": "code",
   "execution_count": 2,
   "metadata": {},
   "outputs": [
    {
     "data": {
      "text/plain": [
       "array([[[0, 0, 0, ..., 0, 0, 0],\n",
       "        [0, 0, 0, ..., 0, 0, 0],\n",
       "        [0, 0, 0, ..., 0, 0, 0],\n",
       "        ...,\n",
       "        [0, 0, 0, ..., 0, 0, 0],\n",
       "        [0, 0, 0, ..., 0, 0, 0],\n",
       "        [0, 0, 0, ..., 0, 0, 0]],\n",
       "\n",
       "       [[0, 0, 0, ..., 0, 0, 0],\n",
       "        [0, 0, 0, ..., 0, 0, 0],\n",
       "        [0, 0, 0, ..., 0, 0, 0],\n",
       "        ...,\n",
       "        [0, 0, 0, ..., 0, 0, 0],\n",
       "        [0, 0, 0, ..., 0, 0, 0],\n",
       "        [0, 0, 0, ..., 0, 0, 0]],\n",
       "\n",
       "       [[0, 0, 0, ..., 0, 0, 0],\n",
       "        [0, 0, 0, ..., 0, 0, 0],\n",
       "        [0, 0, 0, ..., 0, 0, 0],\n",
       "        ...,\n",
       "        [0, 0, 0, ..., 0, 0, 0],\n",
       "        [0, 0, 0, ..., 0, 0, 0],\n",
       "        [0, 0, 0, ..., 0, 0, 0]]], dtype=uint8)"
      ]
     },
     "execution_count": 2,
     "metadata": {},
     "output_type": "execute_result"
    }
   ],
   "source": [
    "in_path = '.\\\\assets\\\\tif_files\\multi_band.tif'\n",
    "\n",
    "with rio.open(in_path) as src:\n",
    "    \n",
    "    img = src.read()\n",
    "\n",
    "img"
   ]
  },
  {
   "cell_type": "code",
   "execution_count": 3,
   "metadata": {},
   "outputs": [
    {
     "data": {
      "text/plain": [
       "(3, 2004, 2044)"
      ]
     },
     "execution_count": 3,
     "metadata": {},
     "output_type": "execute_result"
    }
   ],
   "source": [
    "img.shape"
   ]
  },
  {
   "cell_type": "code",
   "execution_count": 4,
   "metadata": {},
   "outputs": [],
   "source": [
    "def add_alpha(img):\n",
    "    # assuming your original RGB image is called 'rgb_image'\n",
    "    alpha_channel = np.ones((img.shape[1], img.shape[2])) # create a new alpha channel of shape (2004, 2044) with all values set to 1\n",
    "    alpha_channel[(img[0] == 0) & (img[1] == 0) & (img[2] == 0)] = 0 # set alpha values to 0 for pixels where all RGB values are 0\n",
    "\n",
    "    rgba_image = np.concatenate((img, alpha_channel[np.newaxis, :, :]), axis=0) # concatenate the alpha channel with the RGB image along the first dimension to create a RGBA image\n",
    "\n",
    "    return rgba_image\n"
   ]
  },
  {
   "cell_type": "code",
   "execution_count": 5,
   "metadata": {},
   "outputs": [],
   "source": [
    "rgba_image = add_alpha(img)"
   ]
  },
  {
   "cell_type": "code",
   "execution_count": 6,
   "metadata": {},
   "outputs": [
    {
     "name": "stdout",
     "output_type": "stream",
     "text": [
      "Geotransform: | 0.00, 0.00, 77.32|\n",
      "| 0.00,-0.00, 13.24|\n",
      "| 0.00, 0.00, 1.00|\n",
      "Bounding box: BoundingBox(left=77.31961347167864, bottom=12.701549296751152, right=77.87046040390072, top=13.241616445563809)\n",
      "CRS: EPSG:4326\n",
      "Nodata value: 0.0\n",
      "Number of bands: 3\n",
      "Height: 2004\n",
      "Width: 2044\n"
     ]
    }
   ],
   "source": [
    "# Assuming your geotiff file is called 'input.tif'\n",
    "input_path = '.\\\\assets\\\\tif_files\\multi_band.tif'\n",
    "\n",
    "# Open the geotiff file using rasterio\n",
    "with rio.open(input_path) as src:\n",
    "    # Get the geotransform and bounding box information\n",
    "    transform = src.transform\n",
    "    bounds = src.bounds\n",
    "    \n",
    "    # Get the coordinate reference system (CRS) information\n",
    "    crs = src.crs\n",
    "    \n",
    "    # Get the nodata value\n",
    "    nodata = src.nodata\n",
    "    \n",
    "    # Get the number of bands, height, and width of the geotiff file\n",
    "    count = src.count\n",
    "    height = src.height\n",
    "    width = src.width\n",
    "    \n",
    "    # Print the parameter information\n",
    "    print(f\"Geotransform: {transform}\")\n",
    "    print(f\"Bounding box: {bounds}\")\n",
    "    print(f\"CRS: {crs}\")\n",
    "    print(f\"Nodata value: {nodata}\")\n",
    "    print(f\"Number of bands: {count}\")\n",
    "    print(f\"Height: {height}\")\n",
    "    print(f\"Width: {width}\")"
   ]
  },
  {
   "cell_type": "code",
   "execution_count": 9,
   "metadata": {},
   "outputs": [],
   "source": [
    "# Assuming your NumPy array is called 'array' and your geotransform is called 'transform'\n",
    "# Define the output file path\n",
    "output_path = '.\\\\assets\\\\tif_files\\multi_band_new.tif'\n",
    "\n",
    "# Set the driver to 'GTiff' to create a geotiff file\n",
    "driver = 'GTiff'\n",
    "\n",
    "# Define the output file's data type, number of bands, height, and width\n",
    "dtype = rgba_image.dtype\n",
    "count = rgba_image.shape[0]\n",
    "height = rgba_image.shape[1]\n",
    "width = rgba_image.shape[2]\n",
    "\n",
    "# Open a new rasterio dataset for writing\n",
    "with rio.open(\n",
    "    output_path,\n",
    "    'w',\n",
    "    driver=driver,\n",
    "    height=height,\n",
    "    width=width,\n",
    "    count=count,\n",
    "    dtype=dtype,\n",
    "    transform=transform\n",
    ") as dst:\n",
    "    # Write the NumPy array to the rasterio dataset\n",
    "    dst.crs = rio.crs.CRS.from_epsg(4326)\n",
    "    dst.write(rgba_image)"
   ]
  },
  {
   "cell_type": "code",
   "execution_count": 8,
   "metadata": {},
   "outputs": [
    {
     "name": "stdout",
     "output_type": "stream",
     "text": [
      "Geotransform: | 0.00, 0.00, 77.32|\n",
      "| 0.00,-0.00, 13.24|\n",
      "| 0.00, 0.00, 1.00|\n",
      "Bounding box: BoundingBox(left=77.31961347167864, bottom=12.701549296751152, right=77.87046040390072, top=13.241616445563809)\n",
      "CRS: None\n",
      "Nodata value: None\n",
      "Number of bands: 4\n",
      "Height: 2004\n",
      "Width: 2044\n"
     ]
    }
   ],
   "source": [
    "# Assuming your geotiff file is called 'input.tif'\n",
    "input_path = '.\\\\assets\\\\tif_files\\multi_band_new.tif'\n",
    "\n",
    "# Open the geotiff file using rasterio\n",
    "with rio.open(input_path) as src:\n",
    "    # Get the geotransform and bounding box information\n",
    "    transform = src.transform\n",
    "    bounds = src.bounds\n",
    "    \n",
    "    # Get the coordinate reference system (CRS) information\n",
    "    crs = src.crs\n",
    "    \n",
    "    # Get the nodata value\n",
    "    nodata = src.nodata\n",
    "    \n",
    "    # Get the number of bands, height, and width of the geotiff file\n",
    "    count = src.count\n",
    "    height = src.height\n",
    "    width = src.width\n",
    "    \n",
    "    # Print the parameter information\n",
    "    print(f\"Geotransform: {transform}\")\n",
    "    print(f\"Bounding box: {bounds}\")\n",
    "    print(f\"CRS: {crs}\")\n",
    "    print(f\"Nodata value: {nodata}\")\n",
    "    print(f\"Number of bands: {count}\")\n",
    "    print(f\"Height: {height}\")\n",
    "    print(f\"Width: {width}\")"
   ]
  }
 ],
 "metadata": {
  "kernelspec": {
   "display_name": "gee",
   "language": "python",
   "name": "python3"
  },
  "language_info": {
   "codemirror_mode": {
    "name": "ipython",
    "version": 3
   },
   "file_extension": ".py",
   "mimetype": "text/x-python",
   "name": "python",
   "nbconvert_exporter": "python",
   "pygments_lexer": "ipython3",
   "version": "3.8.13"
  },
  "orig_nbformat": 4
 },
 "nbformat": 4,
 "nbformat_minor": 2
}
